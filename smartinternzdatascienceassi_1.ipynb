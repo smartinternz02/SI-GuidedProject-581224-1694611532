{
  "nbformat": 4,
  "nbformat_minor": 0,
  "metadata": {
    "colab": {
      "provenance": []
    },
    "kernelspec": {
      "name": "python3",
      "display_name": "Python 3"
    },
    "language_info": {
      "name": "python"
    }
  },
  "cells": [
    {
      "cell_type": "markdown",
      "source": [
        "# SMARTINTERNZ APPLIED DATA SCIENCE ASSIGNMENT-1"
      ],
      "metadata": {
        "id": "aaNSLdmWbGWG"
      }
    },
    {
      "cell_type": "markdown",
      "source": [
        "#NAME:D.JAYANTH VARMA\n",
        "#REGISTRATION NUMBER:21BCE9786\n",
        "# CAMPUS:VIT-AP\n",
        "#SLOT-MORNING"
      ],
      "metadata": {
        "id": "dAjAILN9bZOb"
      }
    },
    {
      "cell_type": "markdown",
      "source": [
        "**NUMPY EXERCISES**"
      ],
      "metadata": {
        "id": "B7rnfncHc438"
      }
    },
    {
      "cell_type": "markdown",
      "source": [
        "**Import Numpy as np**"
      ],
      "metadata": {
        "id": "DXLzJEKDdEez"
      }
    },
    {
      "cell_type": "code",
      "source": [
        "import numpy as np"
      ],
      "metadata": {
        "id": "L8mHuxl7bpyx"
      },
      "execution_count": null,
      "outputs": []
    },
    {
      "cell_type": "markdown",
      "source": [
        "**create an array of 10 zeros**"
      ],
      "metadata": {
        "id": "FEh27Q2wdV1x"
      }
    },
    {
      "cell_type": "code",
      "source": [
        "import numpy as np\n",
        "z=np.zeros(10)\n",
        "z"
      ],
      "metadata": {
        "colab": {
          "base_uri": "https://localhost:8080/"
        },
        "id": "tLUd0TBudQEu",
        "outputId": "7e538a14-aaae-4572-8a5b-2b617336bb55"
      },
      "execution_count": null,
      "outputs": [
        {
          "output_type": "execute_result",
          "data": {
            "text/plain": [
              "array([0., 0., 0., 0., 0., 0., 0., 0., 0., 0.])"
            ]
          },
          "metadata": {},
          "execution_count": 1
        }
      ]
    },
    {
      "cell_type": "markdown",
      "source": [
        "**Create an array of 10 ones**"
      ],
      "metadata": {
        "id": "Swa_7O0Ren_U"
      }
    },
    {
      "cell_type": "code",
      "source": [
        "import numpy as np\n",
        "f=np.ones(10)\n",
        "f"
      ],
      "metadata": {
        "colab": {
          "base_uri": "https://localhost:8080/"
        },
        "id": "mbjUSRngeugq",
        "outputId": "30fb3048-226b-41bb-b51a-53638840cbb3"
      },
      "execution_count": null,
      "outputs": [
        {
          "output_type": "execute_result",
          "data": {
            "text/plain": [
              "array([1., 1., 1., 1., 1., 1., 1., 1., 1., 1.])"
            ]
          },
          "metadata": {},
          "execution_count": 4
        }
      ]
    },
    {
      "cell_type": "markdown",
      "source": [
        "**Create an array of 10 fives**"
      ],
      "metadata": {
        "id": "iBQ-Q_6Cd6Zi"
      }
    },
    {
      "cell_type": "code",
      "source": [
        "import numpy as np\n",
        "k=np.repeat(5,10)\n",
        "k"
      ],
      "metadata": {
        "colab": {
          "base_uri": "https://localhost:8080/"
        },
        "id": "XNxjUseueFSC",
        "outputId": "dd401b26-19b6-4757-c5c9-324d318dd794"
      },
      "execution_count": null,
      "outputs": [
        {
          "output_type": "execute_result",
          "data": {
            "text/plain": [
              "array([5, 5, 5, 5, 5, 5, 5, 5, 5, 5])"
            ]
          },
          "metadata": {},
          "execution_count": 3
        }
      ]
    },
    {
      "cell_type": "markdown",
      "source": [
        "**Create an array of all the integers from 10 to 50**"
      ],
      "metadata": {
        "id": "M97UA4n0e18j"
      }
    },
    {
      "cell_type": "code",
      "source": [
        "arr=np.arange(10,51,1)\n",
        "arr"
      ],
      "metadata": {
        "colab": {
          "base_uri": "https://localhost:8080/"
        },
        "id": "kGDBBF_Oe_uQ",
        "outputId": "5a5a6535-4428-482a-9d1c-1ac3f97db60e"
      },
      "execution_count": null,
      "outputs": [
        {
          "output_type": "execute_result",
          "data": {
            "text/plain": [
              "array([10, 11, 12, 13, 14, 15, 16, 17, 18, 19, 20, 21, 22, 23, 24, 25, 26,\n",
              "       27, 28, 29, 30, 31, 32, 33, 34, 35, 36, 37, 38, 39, 40, 41, 42, 43,\n",
              "       44, 45, 46, 47, 48, 49, 50])"
            ]
          },
          "metadata": {},
          "execution_count": 8
        }
      ]
    },
    {
      "cell_type": "markdown",
      "source": [
        "**Create an array of all even integers from 10 to 50**"
      ],
      "metadata": {
        "id": "qSD93gHnf1LA"
      }
    },
    {
      "cell_type": "code",
      "source": [
        "arr1=np.arange(10,51,2)\n",
        "arr1"
      ],
      "metadata": {
        "colab": {
          "base_uri": "https://localhost:8080/"
        },
        "id": "uLWm4NSwgBIK",
        "outputId": "07e2d163-83c6-4665-da17-9b9717c4eb8d"
      },
      "execution_count": null,
      "outputs": [
        {
          "output_type": "execute_result",
          "data": {
            "text/plain": [
              "array([10, 12, 14, 16, 18, 20, 22, 24, 26, 28, 30, 32, 34, 36, 38, 40, 42,\n",
              "       44, 46, 48, 50])"
            ]
          },
          "metadata": {},
          "execution_count": 10
        }
      ]
    },
    {
      "cell_type": "markdown",
      "source": [
        "**Create a 3*3 matrix with values ranging from 0to 8**"
      ],
      "metadata": {
        "id": "niGi9_GlgMmA"
      }
    },
    {
      "cell_type": "code",
      "source": [
        "arr=np.arange(0,9)\n",
        "arr=arr.reshape(3,3)\n",
        "arr"
      ],
      "metadata": {
        "colab": {
          "base_uri": "https://localhost:8080/"
        },
        "id": "27hKOCvwgeaO",
        "outputId": "be97bcd5-d1c4-4968-84d3-b921a1a2f1fa"
      },
      "execution_count": null,
      "outputs": [
        {
          "output_type": "execute_result",
          "data": {
            "text/plain": [
              "array([[0, 1, 2],\n",
              "       [3, 4, 5],\n",
              "       [6, 7, 8]])"
            ]
          },
          "metadata": {},
          "execution_count": 14
        }
      ]
    },
    {
      "cell_type": "markdown",
      "source": [
        "**Create a Identity Matrix**"
      ],
      "metadata": {
        "id": "wRfOu2_MheXv"
      }
    },
    {
      "cell_type": "code",
      "source": [
        "np.eye(3)"
      ],
      "metadata": {
        "colab": {
          "base_uri": "https://localhost:8080/"
        },
        "id": "KGNR5hVtgBLh",
        "outputId": "7893a192-dd87-4e25-8113-f9fc954dd227"
      },
      "execution_count": null,
      "outputs": [
        {
          "output_type": "execute_result",
          "data": {
            "text/plain": [
              "array([[1., 0., 0.],\n",
              "       [0., 1., 0.],\n",
              "       [0., 0., 1.]])"
            ]
          },
          "metadata": {},
          "execution_count": 15
        }
      ]
    },
    {
      "cell_type": "markdown",
      "source": [
        "**Use Numpy to generate a random number between o and 1**"
      ],
      "metadata": {
        "id": "V12zt-vziFiS"
      }
    },
    {
      "cell_type": "code",
      "source": [
        "arr1=np.random.rand(1)\n",
        "arr1"
      ],
      "metadata": {
        "colab": {
          "base_uri": "https://localhost:8080/"
        },
        "id": "W5nHrQnuh5Rs",
        "outputId": "cf90f513-e167-4a81-d366-185c3252dcab"
      },
      "execution_count": null,
      "outputs": [
        {
          "output_type": "execute_result",
          "data": {
            "text/plain": [
              "array([0.62489827])"
            ]
          },
          "metadata": {},
          "execution_count": 18
        }
      ]
    },
    {
      "cell_type": "markdown",
      "source": [
        "**Use Numpy to generate a array of 25 numbers sampled froma standard normal distribution**"
      ],
      "metadata": {
        "id": "PBbSfcL0iZ0R"
      }
    },
    {
      "cell_type": "code",
      "source": [
        "rn=np.random.normal(0,1,25)\n",
        "rn"
      ],
      "metadata": {
        "colab": {
          "base_uri": "https://localhost:8080/"
        },
        "id": "Nv45fhW2izfw",
        "outputId": "7415388e-c5c2-4742-a791-67c99594be2f"
      },
      "execution_count": null,
      "outputs": [
        {
          "output_type": "execute_result",
          "data": {
            "text/plain": [
              "array([-1.21971743,  0.08697829,  0.95039814,  1.34943374,  0.21480673,\n",
              "       -1.59519463,  0.66704424, -0.38755992,  1.04198669, -0.42580891,\n",
              "       -1.71012208,  0.10957434, -1.18846091, -0.96360297, -0.46501652,\n",
              "        0.57556589, -0.68468908,  0.87419935,  1.67835624,  1.24887361,\n",
              "        0.04086023,  0.92687279,  0.7925187 , -0.93716614,  0.23680181])"
            ]
          },
          "metadata": {},
          "execution_count": 21
        }
      ]
    },
    {
      "cell_type": "markdown",
      "source": [
        "**create the following matrix**"
      ],
      "metadata": {
        "id": "svLIaGEci_ds"
      }
    },
    {
      "cell_type": "code",
      "source": [
        "import numpy as np\n",
        "ar1=np.arange(0.01,1.01,0.01)\n",
        "a=ar1.reshape(10,10)\n",
        "a"
      ],
      "metadata": {
        "colab": {
          "base_uri": "https://localhost:8080/"
        },
        "id": "eJ20M5Eti-IC",
        "outputId": "487c09c7-2661-4fa3-b3f9-b167e4f397c9"
      },
      "execution_count": null,
      "outputs": [
        {
          "output_type": "execute_result",
          "data": {
            "text/plain": [
              "array([[0.01, 0.02, 0.03, 0.04, 0.05, 0.06, 0.07, 0.08, 0.09, 0.1 ],\n",
              "       [0.11, 0.12, 0.13, 0.14, 0.15, 0.16, 0.17, 0.18, 0.19, 0.2 ],\n",
              "       [0.21, 0.22, 0.23, 0.24, 0.25, 0.26, 0.27, 0.28, 0.29, 0.3 ],\n",
              "       [0.31, 0.32, 0.33, 0.34, 0.35, 0.36, 0.37, 0.38, 0.39, 0.4 ],\n",
              "       [0.41, 0.42, 0.43, 0.44, 0.45, 0.46, 0.47, 0.48, 0.49, 0.5 ],\n",
              "       [0.51, 0.52, 0.53, 0.54, 0.55, 0.56, 0.57, 0.58, 0.59, 0.6 ],\n",
              "       [0.61, 0.62, 0.63, 0.64, 0.65, 0.66, 0.67, 0.68, 0.69, 0.7 ],\n",
              "       [0.71, 0.72, 0.73, 0.74, 0.75, 0.76, 0.77, 0.78, 0.79, 0.8 ],\n",
              "       [0.81, 0.82, 0.83, 0.84, 0.85, 0.86, 0.87, 0.88, 0.89, 0.9 ],\n",
              "       [0.91, 0.92, 0.93, 0.94, 0.95, 0.96, 0.97, 0.98, 0.99, 1.  ]])"
            ]
          },
          "metadata": {},
          "execution_count": 28
        }
      ]
    },
    {
      "cell_type": "markdown",
      "source": [
        "**Create an array of 20 linearly spaced points between 0 and 1**"
      ],
      "metadata": {
        "id": "HaBPIeW9k5-i"
      }
    },
    {
      "cell_type": "code",
      "source": [
        "a=np.linspace(0,1,20)\n",
        "a"
      ],
      "metadata": {
        "colab": {
          "base_uri": "https://localhost:8080/"
        },
        "id": "mCzCN-rni-ZS",
        "outputId": "c6d6295c-0427-4ff7-de46-5ccd44b9d619"
      },
      "execution_count": null,
      "outputs": [
        {
          "output_type": "execute_result",
          "data": {
            "text/plain": [
              "array([0.        , 0.05263158, 0.10526316, 0.15789474, 0.21052632,\n",
              "       0.26315789, 0.31578947, 0.36842105, 0.42105263, 0.47368421,\n",
              "       0.52631579, 0.57894737, 0.63157895, 0.68421053, 0.73684211,\n",
              "       0.78947368, 0.84210526, 0.89473684, 0.94736842, 1.        ])"
            ]
          },
          "metadata": {},
          "execution_count": 31
        }
      ]
    },
    {
      "cell_type": "markdown",
      "source": [
        "#NUMPY INDEXING AND SELECTION"
      ],
      "metadata": {
        "id": "PTMy7jF5lh83"
      }
    },
    {
      "cell_type": "code",
      "source": [
        "arr1=np.arange(1,26).reshape(5,5)\n",
        "arr1"
      ],
      "metadata": {
        "colab": {
          "base_uri": "https://localhost:8080/"
        },
        "id": "VnXPENOGlurb",
        "outputId": "0a1ae1c4-b30e-4d8d-f504-3d63654209db"
      },
      "execution_count": null,
      "outputs": [
        {
          "output_type": "execute_result",
          "data": {
            "text/plain": [
              "array([[ 1,  2,  3,  4,  5],\n",
              "       [ 6,  7,  8,  9, 10],\n",
              "       [11, 12, 13, 14, 15],\n",
              "       [16, 17, 18, 19, 20],\n",
              "       [21, 22, 23, 24, 25]])"
            ]
          },
          "metadata": {},
          "execution_count": 32
        }
      ]
    },
    {
      "cell_type": "code",
      "source": [
        "# WRITE CODE HERE THAT REPRODUCES THE OUTPUT OF THE CELL BELOW\n",
        "# BE CAREFUL NOT TO RUN THE CELL BELOW, OTHERWISE YOU WON'T\n",
        " #BE ABLE TO SEE THE OUTPUT ANY MORE\n",
        "\n",
        "k=np.array([[12,13,14,15],[17,18,19,20],[22,23,24,25]])\n",
        "k"
      ],
      "metadata": {
        "colab": {
          "base_uri": "https://localhost:8080/"
        },
        "id": "StknWSMDmcz4",
        "outputId": "23949202-1414-4925-b2a6-bf22dabafc25"
      },
      "execution_count": null,
      "outputs": [
        {
          "output_type": "execute_result",
          "data": {
            "text/plain": [
              "array([[12, 13, 14, 15],\n",
              "       [17, 18, 19, 20],\n",
              "       [22, 23, 24, 25]])"
            ]
          },
          "metadata": {},
          "execution_count": 34
        }
      ]
    },
    {
      "cell_type": "code",
      "source": [
        "# WRITE CODE HERE THAT REPRODUCES THE OUTPUT OF THE CELL BELOW\n",
        "# BE CAREFUL NOT TO RUN THE CELL BELOW, OTHERWISE YOU WON'T\n",
        " #BE ABLE TO SEE THE OUTPUT ANY MORE\n",
        "k[1][3]"
      ],
      "metadata": {
        "colab": {
          "base_uri": "https://localhost:8080/"
        },
        "id": "UAqPiCP2nsvN",
        "outputId": "17b7fab7-d0c3-4053-b114-d6a2930c3d2d"
      },
      "execution_count": null,
      "outputs": [
        {
          "output_type": "execute_result",
          "data": {
            "text/plain": [
              "20"
            ]
          },
          "metadata": {},
          "execution_count": 42
        }
      ]
    },
    {
      "cell_type": "code",
      "source": [
        "# WRITE CODE HERE THAT REPRODUCES THE OUTPUT OF THE CELL BELOW\n",
        "# BE CAREFUL NOT TO RUN THE CELL BELOW, OTHERWISE YOU WON'T\n",
        " #BE ABLE TO SEE THE OUTPUT ANY MORE\n",
        "arr1[0:3,1]"
      ],
      "metadata": {
        "colab": {
          "base_uri": "https://localhost:8080/"
        },
        "id": "5Jrwe_A-pAPY",
        "outputId": "0bdd6af7-ec89-41f0-f8a2-bbe7491f4bc9"
      },
      "execution_count": null,
      "outputs": [
        {
          "output_type": "execute_result",
          "data": {
            "text/plain": [
              "array([ 2,  7, 12])"
            ]
          },
          "metadata": {},
          "execution_count": 43
        }
      ]
    },
    {
      "cell_type": "code",
      "source": [
        "# WRITE CODE HERE THAT REPRODUCES THE OUTPUT OF THE CELL BELOW\n",
        "# BE CAREFUL NOT TO RUN THE CELL BELOW, OTHERWISE YOU WON'T\n",
        " #BE ABLE TO SEE THE OUTPUT ANY MOREarr1[-1]"
      ],
      "metadata": {
        "colab": {
          "base_uri": "https://localhost:8080/"
        },
        "id": "bhmFLYM4pgJM",
        "outputId": "0340745c-a924-4b80-d043-7798fe88d603"
      },
      "execution_count": null,
      "outputs": [
        {
          "output_type": "execute_result",
          "data": {
            "text/plain": [
              "array([21, 22, 23, 24, 25])"
            ]
          },
          "metadata": {},
          "execution_count": 44
        }
      ]
    },
    {
      "cell_type": "code",
      "source": [
        "# WRITE CODE HERE THAT REPRODUCES THE OUTPUT OF THE CELL BELOW\n",
        "# BE CAREFUL NOT TO RUN THE CELL BELOW, OTHERWISE YOU WON'T\n",
        " #BE ABLE TO SEE THE OUTPUT ANY MOREarr1[-2:]"
      ],
      "metadata": {
        "colab": {
          "base_uri": "https://localhost:8080/"
        },
        "id": "Pbm5JzrXpvJW",
        "outputId": "722a5f6c-b2f7-484f-c6cc-85cfa9e28382"
      },
      "execution_count": null,
      "outputs": [
        {
          "output_type": "execute_result",
          "data": {
            "text/plain": [
              "array([[16, 17, 18, 19, 20],\n",
              "       [21, 22, 23, 24, 25]])"
            ]
          },
          "metadata": {},
          "execution_count": 45
        }
      ]
    },
    {
      "cell_type": "markdown",
      "source": [
        "# Now do the following"
      ],
      "metadata": {
        "id": "aD_QA1-OqPRN"
      }
    },
    {
      "cell_type": "markdown",
      "source": [
        "**Get the sum of all values in arr1**"
      ],
      "metadata": {
        "id": "ulQ82cHyqZHT"
      }
    },
    {
      "cell_type": "code",
      "source": [
        "np.sum(arr1)"
      ],
      "metadata": {
        "colab": {
          "base_uri": "https://localhost:8080/"
        },
        "id": "u3R7dlGop0_W",
        "outputId": "4cadc4aa-be3d-46fb-c2df-b0b651388387"
      },
      "execution_count": null,
      "outputs": [
        {
          "output_type": "execute_result",
          "data": {
            "text/plain": [
              "325"
            ]
          },
          "metadata": {},
          "execution_count": 46
        }
      ]
    },
    {
      "cell_type": "markdown",
      "source": [
        "**Get the Standard Deviation of the values in arr1**"
      ],
      "metadata": {
        "id": "EkQFevLEqg3d"
      }
    },
    {
      "cell_type": "code",
      "source": [
        "np.std(arr1)"
      ],
      "metadata": {
        "colab": {
          "base_uri": "https://localhost:8080/"
        },
        "id": "yYvpa733p694",
        "outputId": "c1162656-061f-49ab-cd09-870439bb38db"
      },
      "execution_count": null,
      "outputs": [
        {
          "output_type": "execute_result",
          "data": {
            "text/plain": [
              "7.211102550927978"
            ]
          },
          "metadata": {},
          "execution_count": 47
        }
      ]
    },
    {
      "cell_type": "markdown",
      "source": [
        "**Get the sum of all the columns in arr1**"
      ],
      "metadata": {
        "id": "87SLDAfHqq62"
      }
    },
    {
      "cell_type": "code",
      "source": [
        "arr1.sum(axis=0)"
      ],
      "metadata": {
        "colab": {
          "base_uri": "https://localhost:8080/"
        },
        "id": "wYRHZJ5iqAC1",
        "outputId": "c88964e1-9b4c-4c90-a100-87212b8e0e9c"
      },
      "execution_count": null,
      "outputs": [
        {
          "output_type": "execute_result",
          "data": {
            "text/plain": [
              "array([55, 60, 65, 70, 75])"
            ]
          },
          "metadata": {},
          "execution_count": 48
        }
      ]
    }
  ]
}